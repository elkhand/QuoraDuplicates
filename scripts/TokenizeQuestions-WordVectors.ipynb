{
 "cells": [
  {
   "cell_type": "markdown",
   "metadata": {},
   "source": [
    "setup:\n",
    "\n",
    "* pip install ipython-autotime\n",
    "* pip install pyenchant"
   ]
  },
  {
   "cell_type": "code",
   "execution_count": null,
   "metadata": {},
   "outputs": [],
   "source": [
    "import nltk\n",
    "# nltk.download() #punkt"
   ]
  },
  {
   "cell_type": "code",
   "execution_count": null,
   "metadata": {},
   "outputs": [],
   "source": [
    "%load_ext autotime\n",
    "%pylab inline\n",
    "from __future__ import unicode_literals\n",
    "import pandas as pd\n",
    "import multiprocessing as mp\n",
    "# from nltk.tokenize.stanford import StanfordTokenizer\n",
    "import sys, re, json, csv, time, pickle\n",
    "sys.path.append('quora-duplicates/')\n",
    "import enchant\n",
    "from enchant.checker import SpellChecker\n",
    "# from utils.spellcheck import spell_check"
   ]
  },
  {
   "cell_type": "code",
   "execution_count": null,
   "metadata": {},
   "outputs": [],
   "source": [
    "print 'loading data...'\n",
    "quora = pd.read_csv('data/quora_duplicate_questions.tsv', sep='\\t', encoding='utf-8')\n",
    "print quora.shape\n",
    "quora.head(2)"
   ]
  },
  {
   "cell_type": "code",
   "execution_count": null,
   "metadata": {},
   "outputs": [],
   "source": [
    "quora.is_duplicate.value_counts()/float(quora.shape[0])"
   ]
  },
  {
   "cell_type": "markdown",
   "metadata": {},
   "source": [
    "## Spell-checker"
   ]
  },
  {
   "cell_type": "code",
   "execution_count": null,
   "metadata": {},
   "outputs": [],
   "source": [
    "# https://www.packtpub.com/mapt/book/application-development/9781782167853/2/ch02lvl1sec23/spelling-correction-with-enchant\n",
    "import enchant\n",
    "from nltk.metrics import edit_distance\n",
    "\n",
    "class SpellingReplacer(object):\n",
    "  def __init__(self, dict_name='en', max_dist=2):\n",
    "    self.spell_dict = enchant.Dict(dict_name)\n",
    "    self.max_dist = max_dist\n",
    "\n",
    "  def replace(self, words):\n",
    "    corrected_words = list()\n",
    "    for word in words:\n",
    "        if self.spell_dict.check(word):\n",
    "            corrected_words.append(word)\n",
    "            continue\n",
    "        suggestions = self.spell_dict.suggest(word)\n",
    "        if suggestions and edit_distance(word, suggestions[0]) <= self.max_dist:\n",
    "          corrected_words.append(suggestions[0])\n",
    "        else:\n",
    "          corrected_words.append(word)\n",
    "    return corrected_words"
   ]
  },
  {
   "cell_type": "code",
   "execution_count": null,
   "metadata": {},
   "outputs": [],
   "source": [
    "replacer = SpellingReplacer()"
   ]
  },
  {
   "cell_type": "markdown",
   "metadata": {},
   "source": [
    "## Tokenizations"
   ]
  },
  {
   "cell_type": "code",
   "execution_count": null,
   "metadata": {},
   "outputs": [],
   "source": [
    "# define tokenizer\n",
    "# jar_path = '/Users/katherineyu/tools/stanford-postagger-2016-10-31/stanford-postagger.jar'\n",
    "# model_path = '/Users/katherineyu/tools/stanford-postagger-2016-10-31/models/english-bidirectional-distsim.tagger'\n",
    "# tokenizer = StanfordTokenizer(path_to_jar=jar_path, encoding='utf8', options=None, verbose=True, java_options='-mx2000m')\n",
    "# print tokenizer.tokenize('Hello world.')"
   ]
  },
  {
   "cell_type": "code",
   "execution_count": null,
   "metadata": {},
   "outputs": [],
   "source": [
    "# load glove pretrained vectors\n",
    "gl = pd.read_csv('glove/glove.6B.100d.txt', header=None, sep='\\s+', error_bad_lines=False, quoting=csv.QUOTE_NONE, encoding='utf8')\n",
    "gl_vocab = gl.pop(0)\n",
    "gl_vocab_index = pd.DataFrame({'vocab_idx': gl_vocab.index})\n",
    "gl_vocab_index.index = gl_vocab.values\n",
    "print gl_vocab.shape, gl.shape\n",
    "gl_vocab_index.head(5)"
   ]
  },
  {
   "cell_type": "code",
   "execution_count": null,
   "metadata": {},
   "outputs": [],
   "source": [
    "from nltk.tokenize.stanford import StanfordTokenizer\n",
    "from nltk.tokenize import word_tokenize\n",
    "import string\n",
    "class TokenizerWorker(object):\n",
    "    \n",
    "    def __init__(self, gl_vocab_index, gl, spellreplacer):\n",
    "#         self.tokenizer = tokenizer\n",
    "        self.gl_vocab_index = gl_vocab_index\n",
    "        self.gl = gl\n",
    "        self.spellreplacer = spellreplacer\n",
    "    \n",
    "    def tokenize(self, s):\n",
    "#         tokens = self.tokenizer.tokenize(s)\n",
    "#         tokens =  re.findall(r\"[\\w']+\", s)\n",
    "        try:\n",
    "            s = re.sub(r'[^\\w\\s]','', s.encode('utf-8').lower())\n",
    "        except:\n",
    "            return [s]\n",
    "        tokens = word_tokenize(s) # lower and strip punctuation\n",
    "        tokens_postprocess = tokens\n",
    "        return tokens_postprocess\n",
    "    \n",
    "    def __call__(self, s):\n",
    "\n",
    "        tokens = self.tokenize(s)\n",
    "        s_vect = np.zeros((1, self.gl.shape[1]))\n",
    "        missing_word = False\n",
    "        \n",
    "        for word in tokens: # sum glove vectors\n",
    "            try:\n",
    "                s_vect += self.gl.iloc[self.gl_vocab_index.ix[word], :]\n",
    "            except KeyError:\n",
    "                missing_word = True\n",
    "            except TypeError:\n",
    "                continue\n",
    "        \n",
    "        if missing_word: # rerun with spellcheck\n",
    "            tokens = self.spellreplacer.replace(tokens)\n",
    "            s_vect = np.zeros((1, self.gl.shape[1]))\n",
    "            for word in tokens:\n",
    "                try:\n",
    "                    s_vect += self.gl.iloc[self.gl_vocab_index.ix[word], :]\n",
    "                except (KeyError, TypeError) as e:\n",
    "                    pass\n",
    "            s = ' '.join(tokens)\n",
    "\n",
    "        return (s, s_vect)"
   ]
  },
  {
   "cell_type": "code",
   "execution_count": null,
   "metadata": {
    "scrolled": true
   },
   "outputs": [],
   "source": [
    "# test the token match without spell_check\n",
    "n = 100\n",
    "match_ct = 0\n",
    "nonmatch_ct = 0\n",
    "tot_nonmatch_ct = 0\n",
    "\n",
    "tokenizer_worker = TokenizerWorker(gl_vocab_index, gl, replacer)\n",
    "for s in quora['question1'].values[:n]:\n",
    "    s_vect = np.zeros((1, gl.shape[1]))\n",
    "    tokens = tokenizer_worker.tokenize(s)\n",
    "    has_match = False\n",
    "    for word in tokens:\n",
    "        if word in gl_vocab_index.index:\n",
    "            s_vect += gl.iloc[gl_vocab_index.ix[word], :]\n",
    "            match_ct += 1\n",
    "            has_match = True\n",
    "        else:\n",
    "            nonmatch_ct += 1\n",
    "            print s\n",
    "            print word\n",
    "    if not has_match:\n",
    "        tot_nonmatch_ct += 1\n",
    "print match_ct, nonmatch_ct, nonmatch_ct/(match_ct + nonmatch_ct + 0.0), tot_nonmatch_ct"
   ]
  },
  {
   "cell_type": "code",
   "execution_count": null,
   "metadata": {},
   "outputs": [],
   "source": [
    "# test spellcheck\n",
    "input1 = \"Which one dissolve in water quikly sugar, salt, methane and carbon di oxide?\"\n",
    "tokenizer_worker = TokenizerWorker(gl_vocab_index, gl, replacer)\n",
    "replacer.replace(tokenizer_worker.tokenize(input1))"
   ]
  },
  {
   "cell_type": "code",
   "execution_count": null,
   "metadata": {},
   "outputs": [],
   "source": [
    "# test run\n",
    "replacer = SpellingReplacer()\n",
    "tokenizer_worker = TokenizerWorker(gl_vocab_index, gl, replacer)\n",
    "zip(*quora.question1[:10000].map(tokenizer_worker))"
   ]
  },
  {
   "cell_type": "code",
   "execution_count": null,
   "metadata": {},
   "outputs": [],
   "source": [
    "# Tokenize question 1 and question 2\n",
    "cpu_ct = mp.cpu_count(); print cpu_ct\n",
    "pool = mp.pool.Pool(cpu_ct)\n",
    "\n",
    "tokenizer_worker = TokenizerWorker(gl_vocab_index, gl, replacer)\n",
    "\n",
    "print 'tokenizing question 1'\n",
    "tok_question1 = pool.map(tokenizer_worker, quora.question1)\n",
    "print 'done'\n",
    "\n",
    "print 'saving tokenization...'\n",
    "with open('data/tokenized_question1_%s.pkl' % time.time(), 'w') as f:\n",
    "    pickle.dump(tok_question1, f)\n",
    "\n",
    "\n",
    "print 'tokenizing question 2'\n",
    "tok_question2 = pool.map(tokenizer_worker, quora.question2)\n",
    "print 'done'\n",
    "\n",
    "print 'saving tokenization...'\n",
    "with open('data/tokenized_question2_%s.pkl' % time.time(), 'w') as f:\n",
    "    pickle.dump(tok_question2, f)\n",
    "\n",
    "\n",
    "pool.close()"
   ]
  },
  {
   "cell_type": "code",
   "execution_count": null,
   "metadata": {},
   "outputs": [],
   "source": [
    "# munge tokenizations\n",
    "wv1 = zip(*tok_question1)[1] \n",
    "emb_q1 = np.vstack(wv1)\n",
    "print emb_q1.shape\n",
    "\n",
    "wv2 = zip(*tok_question2)[1] \n",
    "emb_q2 = np.vstack(wv2)\n",
    "print emb_q2.shape\n",
    "\n",
    "emb_q1q2 = np.hstack((emb_q1, emb_q2)) \n",
    "print emb_q1q2.shape"
   ]
  },
  {
   "cell_type": "code",
   "execution_count": null,
   "metadata": {},
   "outputs": [],
   "source": [
    "# save tokenization as numpy array\n",
    "np.savetxt(\"data/embedding_q1q2_%s.csv\" % time.time(), emb_q1q2, delimiter=\",\")"
   ]
  },
  {
   "cell_type": "code",
   "execution_count": null,
   "metadata": {},
   "outputs": [],
   "source": [
    "# tokenizer_worker = TokenizerWorker(tokenizer, gl_vocab_index, gl, replacer)\n",
    "# quora.question2.map(tokenizer_worker)"
   ]
  },
  {
   "cell_type": "code",
   "execution_count": null,
   "metadata": {},
   "outputs": [],
   "source": [
    "with open('data/tokenized_question1_1486096656.54.pkl') as f:\n",
    "    tok_question1 = pickle.load(f)\n",
    "with open('data/tokenized_question2_1486103937.45.pkl') as f:\n",
    "    tok_question2 = pickle.load(f)"
   ]
  },
  {
   "cell_type": "code",
   "execution_count": null,
   "metadata": {},
   "outputs": [],
   "source": [
    "from sklearn.cross_validation import train_test_split\n",
    "q1_train, q2_train, q1_test, q2_test, ytrain, ytest = train_test_split(tok_question1, tok_question2, quora.is_duplicate.values)"
   ]
  },
  {
   "cell_type": "code",
   "execution_count": null,
   "metadata": {},
   "outputs": [],
   "source": [
    "train_sim = [cosine_similarity(q1_train[i][1], q2_train[i][1])[0,0] for i in range(10000)]\n",
    "ytrain = ytrain[:10000]"
   ]
  },
  {
   "cell_type": "code",
   "execution_count": null,
   "metadata": {},
   "outputs": [],
   "source": [
    "train_sim = np.array(train_sim)"
   ]
  },
  {
   "cell_type": "code",
   "execution_count": null,
   "metadata": {},
   "outputs": [],
   "source": [
    "plt.hist(train_sim[np.where(ytrain==1)[0]], normed=True, alpha=0.3, label='positive', bins=100)\n",
    "plt.hist(train_sim[np.where(ytrain==0)[0]], normed=True, alpha=0.3, label='negative', bins=100)\n",
    "plt.legend();"
   ]
  },
  {
   "cell_type": "code",
   "execution_count": null,
   "metadata": {},
   "outputs": [],
   "source": [
    "thres = 0.85\n",
    "pred = train_sim > thres\n",
    "p = sum(np.logical_and(pred==1, ytrain==1)) / float(sum(pred))\n",
    "r = sum(np.logical_and(pred==1, ytrain==1)) / float(sum(ytrain==1))\n",
    "print p, r, 2*p*r/(p+r)"
   ]
  },
  {
   "cell_type": "code",
   "execution_count": null,
   "metadata": {
    "scrolled": true
   },
   "outputs": [],
   "source": [
    "# validation that word vectors are close\n",
    "from sklearn.metrics.pairwise import cosine_similarity\n",
    "for i in range(100):\n",
    "    print tok_question2[i][0], tok_question1[i][0]\n",
    "    print cosine_similarity(tok_question2[i][1], tok_question1[i][1])[0,0], quora.is_duplicate.values[i]"
   ]
  },
  {
   "cell_type": "code",
   "execution_count": null,
   "metadata": {},
   "outputs": [],
   "source": [
    "# string featurizations (shingling, jacquard), character deeplearning byte-pair encoding, snli\n",
    "# specific first architecture: lstm with attention"
   ]
  },
  {
   "cell_type": "code",
   "execution_count": null,
   "metadata": {},
   "outputs": [],
   "source": []
  },
  {
   "cell_type": "markdown",
   "metadata": {},
   "source": [
    "## conll format"
   ]
  },
  {
   "cell_type": "code",
   "execution_count": null,
   "metadata": {
    "scrolled": true
   },
   "outputs": [],
   "source": [
    "from nltk.tokenize import word_tokenize\n",
    "from enchant.checker import SpellChecker\n",
    "\n",
    "\n",
    "EOS_CHAR = 'zzzz'"
   ]
  },
  {
   "cell_type": "code",
   "execution_count": null,
   "metadata": {},
   "outputs": [],
   "source": [
    "print 'loading data...'\n",
    "quora = pd.read_csv('data/quora_duplicate_questions.tsv', sep='\\t', encoding='utf-8')\n",
    "print quora.shape\n",
    "quora.head(2)"
   ]
  },
  {
   "cell_type": "code",
   "execution_count": null,
   "metadata": {},
   "outputs": [],
   "source": [
    "# replacer = SpellingReplacer()\n",
    "np.random.seed(0)\n",
    "\n",
    "def tokenize_quora_row(row, file_dict):\n",
    "    # tokenize\n",
    "    try:\n",
    "        q1_tok = word_tokenize(row['question1'])\n",
    "        q2_tok = word_tokenize(row['question2'])\n",
    "        conll_entry_a = '\\n'.join(q1_tok) + '\\n\\n'\n",
    "        conll_entry_a = conll_entry_a.encode('utf-8')\n",
    "        conll_entry_b = '\\n'.join(q2_tok) + '\\n\\n'\n",
    "        conll_entry_b = conll_entry_b.encode('utf-8')        \n",
    "        label_entry = str(row['is_duplicate'])+'\\n'\n",
    "    except:  # encoding errors, not str, etc.\n",
    "        return\n",
    "    \n",
    "    # split train/dev/test\n",
    "    x = np.random.random()\n",
    "    if x < .6:\n",
    "        k = 'train'\n",
    "    elif x < .8:\n",
    "        k = 'dev'\n",
    "    else: \n",
    "        k = 'test'\n",
    "    \n",
    "    # write\n",
    "    fa, fb, flab = file_dict[k]['fa'], file_dict[k]['fb'], file_dict[k]['flab']\n",
    "    fa.write(conll_entry_a)\n",
    "    fb.write(conll_entry_b)\n",
    "    flab.write(label_entry)\n"
   ]
  },
  {
   "cell_type": "code",
   "execution_count": null,
   "metadata": {},
   "outputs": [],
   "source": [
    "# tokenize conll\n",
    "with open('data/dat_train_a.conll', 'w') as trainaf:\n",
    "    with open('data/dat_train_b.conll', 'w') as trainbf:\n",
    "        with open('data/labels_train.conll', 'w') as trainlabelf:\n",
    "            with open('data/dat_dev_a.conll', 'w') as devaf:\n",
    "                with open('data/dat_dev_b.conll', 'w') as devbf:\n",
    "                    with open('data/labels_dev.conll', 'w') as devlabelf:        \n",
    "                        with open('data/dat_test_a.conll', 'w') as testaf:\n",
    "                            with open('data/dat_test_b.conll', 'w') as testbf:\n",
    "                                with open('data/labels_test.conll', 'w') as testlabelf:\n",
    "                                    file_dict = {\n",
    "                                        'train': {'fa': trainaf, 'fb': trainbf, 'flab': trainlabelf},\n",
    "                                        'dev': {'fa': devaf, 'fb': devbf, 'flab': devlabelf},\n",
    "                                        'test': {'fa': testaf, 'fb': testbf, 'flab': testlabelf}\n",
    "                                    }\n",
    "                                    tok_conll = quora.apply(lambda x: tokenize_quora_row(x, file_dict), axis=1)"
   ]
  },
  {
   "cell_type": "code",
   "execution_count": null,
   "metadata": {},
   "outputs": [],
   "source": [
    "# tokenize conll small\n",
    "with open('data/sm_dat_train_a.conll', 'w') as trainaf:\n",
    "    with open('data/sm_dat_train_b.conll', 'w') as trainbf:\n",
    "        with open('data/sm_labels_train.conll', 'w') as trainlabelf:\n",
    "            with open('data/sm_dat_dev_a.conll', 'w') as devaf:\n",
    "                with open('data/sm_dat_dev_b.conll', 'w') as devbf:\n",
    "                    with open('data/sm_labels_dev.conll', 'w') as devlabelf:        \n",
    "                        with open('data/sm_dat_test_a.conll', 'w') as testaf:\n",
    "                            with open('data/sm_dat_test_b.conll', 'w') as testbf:\n",
    "                                with open('data/sm_labels_test.conll', 'w') as testlabelf:\n",
    "                                    file_dict = {\n",
    "                                        'train': {'fa': trainaf, 'fb': trainbf, 'flab': trainlabelf},\n",
    "                                        'dev': {'fa': devaf, 'fb': devbf, 'flab': devlabelf},\n",
    "                                        'test': {'fa': testaf, 'fb': testbf, 'flab': testlabelf}\n",
    "                                    }\n",
    "                                    tok_conll = quora.head(5000).apply(lambda x: tokenize_quora_row(x, file_dict), axis=1)"
   ]
  },
  {
   "cell_type": "code",
   "execution_count": null,
   "metadata": {},
   "outputs": [],
   "source": []
  }
 ],
 "metadata": {
  "anaconda-cloud": {},
  "kernelspec": {
   "display_name": "Python 2",
   "language": "python",
   "name": "python2"
  },
  "language_info": {
   "codemirror_mode": {
    "name": "ipython",
    "version": 3
   },
   "file_extension": ".py",
   "mimetype": "text/x-python",
   "name": "python",
   "nbconvert_exporter": "python",
   "pygments_lexer": "ipython3",
   "version": "3.6.5"
  }
 },
 "nbformat": 4,
 "nbformat_minor": 1
}
